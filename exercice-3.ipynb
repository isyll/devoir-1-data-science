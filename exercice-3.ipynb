{
 "cells": [
  {
   "cell_type": "markdown",
   "metadata": {},
   "source": [
    "#### 1. Créez une liste de nombres et écrivez une fonction qui renvoie la médiane de cette liste."
   ]
  },
  {
   "cell_type": "code",
   "execution_count": 3,
   "metadata": {},
   "outputs": [
    {
     "name": "stdout",
     "output_type": "stream",
     "text": [
      "5.0\n"
     ]
    }
   ],
   "source": [
    "from statistics import median\n",
    "\n",
    "liste = [1, 23, 21, 4, 2, 6]\n",
    "print(median(liste))\n"
   ]
  },
  {
   "cell_type": "markdown",
   "metadata": {},
   "source": [
    "#### 2. Écrivez une fonction qui prend une liste de chaînes de caractères en entrée et renvoie une nouvelle liste contenant seulement les chaînes de plus de 5 caractères."
   ]
  },
  {
   "cell_type": "code",
   "execution_count": 2,
   "metadata": {},
   "outputs": [
    {
     "name": "stdout",
     "output_type": "stream",
     "text": [
      "['123456']\n"
     ]
    }
   ],
   "source": [
    "def plusDe5(liste: list) :\n",
    "    return [_ for _ in liste if len(_) > 5]\n",
    "\n",
    "print(plusDe5(['123', '12345', '123456']))"
   ]
  },
  {
   "cell_type": "markdown",
   "metadata": {},
   "source": [
    "#### 3. Créez une liste de nombres et écrivez un programme qui calcule la moyenne de ces nombres sans utiliser la fonction `sum`."
   ]
  },
  {
   "cell_type": "code",
   "execution_count": 4,
   "metadata": {},
   "outputs": [
    {
     "name": "stdout",
     "output_type": "stream",
     "text": [
      "2.0\n"
     ]
    }
   ],
   "source": [
    "liste = [1, 2, 3]\n",
    "somme = 0\n",
    "for nb in liste :\n",
    "    somme += nb\n",
    "\n",
    "print(somme / len(liste))\n"
   ]
  },
  {
   "cell_type": "markdown",
   "metadata": {},
   "source": [
    "#### 4. Écrivez une fonction qui prend une liste en entrée et renvoie la liste inversée."
   ]
  },
  {
   "cell_type": "code",
   "execution_count": 6,
   "metadata": {},
   "outputs": [
    {
     "name": "stdout",
     "output_type": "stream",
     "text": [
      "[3, 2, 1]\n"
     ]
    }
   ],
   "source": [
    "liste = [1, 2, 3]\n",
    "liste.reverse()\n",
    "print(liste)"
   ]
  },
  {
   "cell_type": "markdown",
   "metadata": {},
   "source": [
    "#### 5. Créez une liste de noms et affichez les noms qui contiennent la lettre \"a\"."
   ]
  },
  {
   "cell_type": "code",
   "execution_count": 7,
   "metadata": {},
   "outputs": [
    {
     "name": "stdout",
     "output_type": "stream",
     "text": [
      "sylla\n",
      "mbaye\n"
     ]
    }
   ],
   "source": [
    "liste = ['sylla', 'diop', 'mbaye']\n",
    "for nom in liste :\n",
    "    if 'a' in nom :\n",
    "        print(nom)"
   ]
  }
 ],
 "metadata": {
  "kernelspec": {
   "display_name": "base",
   "language": "python",
   "name": "python3"
  },
  "language_info": {
   "codemirror_mode": {
    "name": "ipython",
    "version": 3
   },
   "file_extension": ".py",
   "mimetype": "text/x-python",
   "name": "python",
   "nbconvert_exporter": "python",
   "pygments_lexer": "ipython3",
   "version": "3.11.5"
  }
 },
 "nbformat": 4,
 "nbformat_minor": 2
}
