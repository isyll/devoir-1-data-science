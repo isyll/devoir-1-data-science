{
 "cells": [
  {
   "cell_type": "markdown",
   "metadata": {},
   "source": [
    "#### 1. Écrivez une fonction qui prend deux listes en entrée et renvoie une nouvelle liste contenant les éléments communs aux deux listes."
   ]
  },
  {
   "cell_type": "code",
   "execution_count": null,
   "metadata": {},
   "outputs": [],
   "source": [
    "def concatListe(liste1, liste2) :\n",
    "    return liste1 + liste2\n",
    "\n",
    "print(concatListe(['a', 'b', 'c'], [12, 1, 2]))\n"
   ]
  },
  {
   "cell_type": "markdown",
   "metadata": {},
   "source": [
    "#### 2. Créez une fonction qui prend un nombre en entrée et renvoie \"pair\" ou \"impair\"."
   ]
  },
  {
   "cell_type": "code",
   "execution_count": null,
   "metadata": {},
   "outputs": [],
   "source": [
    "def pairImpair(nb: int) :\n",
    "    return 'pair' if nb % 2 == 0 else 'impair'\n",
    "\n",
    "print(pairImpair(6))\n"
   ]
  },
  {
   "cell_type": "markdown",
   "metadata": {},
   "source": [
    "#### 3. Écrivez une fonction qui prend une liste de nombres en entrée et renvoie la somme de tous les éléments."
   ]
  },
  {
   "cell_type": "code",
   "execution_count": null,
   "metadata": {},
   "outputs": [],
   "source": [
    "def somme(liste) :\n",
    "    return sum(liste)\n",
    "\n",
    "print(somme([1, 2, 3, 4, 5]))\n"
   ]
  },
  {
   "cell_type": "markdown",
   "metadata": {},
   "source": [
    "#### 4. Créez une fonction qui prend une liste de mots en entrée et renvoie une nouvelle liste contenant la première lettre de chaque mot."
   ]
  },
  {
   "cell_type": "code",
   "execution_count": null,
   "metadata": {},
   "outputs": [],
   "source": [
    "def premLettre(liste) :\n",
    "    return [_[0] for _ in liste]\n",
    "\n",
    "print(premLettre(['riz', 'sable', 'orange', 'verre']))\n"
   ]
  },
  {
   "cell_type": "markdown",
   "metadata": {},
   "source": [
    "#### 5. Écrivez une fonction qui prend une chaîne de caractères en entrée et renvoie la même chaîne mais sans voyelles."
   ]
  },
  {
   "cell_type": "code",
   "execution_count": null,
   "metadata": {},
   "outputs": [],
   "source": [
    "def retirerVoyelles(chaine) :\n",
    "    voyelles = \"aeiouAEIOU\"\n",
    "    return ''.join([('' if _.isalpha() and _ in voyelles else _) for _ in chaine])\n",
    "\n",
    "print(retirerVoyelles('bonjour, comment ça va'))"
   ]
  }
 ],
 "metadata": {
  "kernelspec": {
   "display_name": "base",
   "language": "python",
   "name": "python3"
  },
  "language_info": {
   "codemirror_mode": {
    "name": "ipython",
    "version": 3
   },
   "file_extension": ".py",
   "mimetype": "text/x-python",
   "name": "python",
   "nbconvert_exporter": "python",
   "pygments_lexer": "ipython3",
   "version": "3.11.5"
  }
 },
 "nbformat": 4,
 "nbformat_minor": 2
}
