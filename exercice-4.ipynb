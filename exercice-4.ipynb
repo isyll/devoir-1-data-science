{
 "cells": [
  {
   "cell_type": "markdown",
   "metadata": {},
   "source": [
    "#### 1. Créez une fonction qui prend une liste en entrée et renvoie la liste sans les éléments en doublon."
   ]
  },
  {
   "cell_type": "code",
   "execution_count": 2,
   "metadata": {},
   "outputs": [
    {
     "name": "stdout",
     "output_type": "stream",
     "text": [
      "[1, 2, 3, 4, 5]\n"
     ]
    }
   ],
   "source": [
    "liste = list(set([1, 2, 3, 2, 4, 5, 3]))\n",
    "print(liste) "
   ]
  },
  {
   "cell_type": "markdown",
   "metadata": {},
   "source": [
    "#### 2. Créez une fonction qui génère une liste de nombres premiers jusqu'à un nombre donné."
   ]
  },
  {
   "cell_type": "code",
   "execution_count": 3,
   "metadata": {},
   "outputs": [
    {
     "name": "stdout",
     "output_type": "stream",
     "text": [
      "2 est premier\n",
      "3 est premier\n",
      "5 est premier\n",
      "7 est premier\n",
      "11 est premier\n"
     ]
    }
   ],
   "source": [
    "def est_premier(nombre):\n",
    "    if nombre <= 1:\n",
    "        return False\n",
    "    for i in range(2, int(nombre**0.5) + 1):\n",
    "        if nombre % i == 0:\n",
    "            return False\n",
    "    return True\n",
    "\n",
    "def nbPremiers(max) :\n",
    "    for i in range(max) :\n",
    "        if est_premier(i) :\n",
    "            print('{} est premier'.format(i))\n",
    "\n",
    "nbPremiers(13)"
   ]
  },
  {
   "cell_type": "markdown",
   "metadata": {},
   "source": [
    "#### 3. Écrivez un programme qui utilise la fonction map pour multiplier chaque élément d'une liste par 3."
   ]
  },
  {
   "cell_type": "code",
   "execution_count": 4,
   "metadata": {},
   "outputs": [
    {
     "name": "stdout",
     "output_type": "stream",
     "text": [
      "[3, 6, 9, 12, 15]\n"
     ]
    }
   ],
   "source": [
    "liste = [1, 2, 3, 4, 5]\n",
    "print(list(map(lambda x: x*3, liste)))"
   ]
  }
 ],
 "metadata": {
  "kernelspec": {
   "display_name": "base",
   "language": "python",
   "name": "python3"
  },
  "language_info": {
   "codemirror_mode": {
    "name": "ipython",
    "version": 3
   },
   "file_extension": ".py",
   "mimetype": "text/x-python",
   "name": "python",
   "nbconvert_exporter": "python",
   "pygments_lexer": "ipython3",
   "version": "3.11.5"
  }
 },
 "nbformat": 4,
 "nbformat_minor": 2
}
