{
 "cells": [
  {
   "cell_type": "markdown",
   "metadata": {},
   "source": [
    "#### 1. Écrivez un programme qui crée une liste de nombres de 1 à 10 et affiche chaque nombre multiplié par 2."
   ]
  },
  {
   "cell_type": "code",
   "execution_count": null,
   "metadata": {},
   "outputs": [],
   "source": [
    "liste = [1, 2, 3, 4, 5, 6, 7, 8, 9, 10]\n",
    "i = 0\n",
    "while i < len(liste) :\n",
    "    print(liste[i] * 2)\n",
    "    i += 1\n"
   ]
  },
  {
   "cell_type": "markdown",
   "metadata": {},
   "source": [
    "#### 2. Créez une liste de noms et affichez la longueur de chaque nom en utilisant une boucle."
   ]
  },
  {
   "cell_type": "code",
   "execution_count": null,
   "metadata": {},
   "outputs": [],
   "source": [
    "liste = ['sall', 'diop', 'fall', 'sylla', 'mbaye']\n",
    "for nom in liste :\n",
    "    print(len(nom))"
   ]
  },
  {
   "cell_type": "markdown",
   "metadata": {},
   "source": [
    "#### 3. Écrivez une fonction qui prend une liste en entrée et renvoie une nouvelle liste contenant le carré de chaque élément."
   ]
  },
  {
   "cell_type": "code",
   "execution_count": null,
   "metadata": {},
   "outputs": [],
   "source": [
    "def multPar2(liste) :\n",
    "    return [i**2 for i in liste]\n"
   ]
  },
  {
   "cell_type": "markdown",
   "metadata": {},
   "source": [
    "#### 4. Créez une liste de nombres aléatoires et affichez seulement les nombres qui sont supérieurs à 5.\n"
   ]
  },
  {
   "cell_type": "code",
   "execution_count": null,
   "metadata": {},
   "outputs": [],
   "source": [
    "import random\n",
    "\n",
    "liste = [random.randint(1, 100) for _ in range(10)]\n",
    "supA5 = [nb for nb in liste if nb > 5]\n",
    "print(supA5)\n"
   ]
  },
  {
   "cell_type": "markdown",
   "metadata": {},
   "source": [
    "#### 5. Écrivez un programme qui prend une liste de chaînes de caractères en entrée et affiche la plus longue.\n"
   ]
  },
  {
   "cell_type": "code",
   "execution_count": null,
   "metadata": {},
   "outputs": [],
   "source": [
    "def maxLongueur(liste) :\n",
    "    return max(liste, key=len)\n",
    "\n",
    "print(maxLongueur(['chaine', 'chaine1', 'chaine_2']))"
   ]
  }
 ],
 "metadata": {
  "kernelspec": {
   "display_name": "base",
   "language": "python",
   "name": "python3"
  },
  "language_info": {
   "codemirror_mode": {
    "name": "ipython",
    "version": 3
   },
   "file_extension": ".py",
   "mimetype": "text/x-python",
   "name": "python",
   "nbconvert_exporter": "python",
   "pygments_lexer": "ipython3",
   "version": "3.11.5"
  }
 },
 "nbformat": 4,
 "nbformat_minor": 2
}
