{
 "cells": [
  {
   "cell_type": "markdown",
   "metadata": {},
   "source": [
    "#### Écrivez une fonction en Python qui prend en entrée un texte en anglais ou en français et qui calcule la fréquence d'apparition de chaque lettre. La fonction devrait retourner un dictionnaire où les clés sont les lettres de l'alphabet et les valeurs sont les fréquences correspondantes."
   ]
  },
  {
   "cell_type": "code",
   "execution_count": 1,
   "metadata": {},
   "outputs": [
    {
     "name": "stdout",
     "output_type": "stream",
     "text": [
      "{'l': 27, 'a': 40, 'p': 25, 'r': 35, 'o': 35, 'g': 6, 'm': 15, 't': 39, 'i': 25, 'n': 46, 'f': 3, 'q': 4, 'u': 22, 'e': 79, 's': 43, 'c': 24, 'é': 10, 'd': 21, 'j': 1, 'à': 1, 'x': 4, 'y': 6, 'h': 5, 'v': 3, 'z': 1, 'â': 1, 'b': 2, 'è': 1, 'ê': 1}\n"
     ]
    }
   ],
   "source": [
    "fr_text = \"\"\"\n",
    "La programmation informatique est une compétence essentielle de nos jours. Elle consiste à écrire des instructions que l'ordinateur peut comprendre et exécuter. Python est l'un des langages de programmation les plus populaires en raison de sa simplicité et de sa polyvalence. En apprenant Python, vous pouvez créer des applications, analyser des données, automatiser des tâches et bien plus encore. La compréhension de la fréquence des caractères dans un texte est un concept fondamental en programmation, car cela peut être utile dans de nombreux scénarios, tels que l'analyse de texte, la compression de données et la cryptographie.\n",
    "\"\"\"\n",
    "\n",
    "def count_freq(text: str) -> dict :\n",
    "    results = {}\n",
    "    for char in text :\n",
    "        char = char.lower()\n",
    "        if char.isalpha() :\n",
    "            results[char] = results.get(char, 0) + 1\n",
    "    return results\n",
    "\n",
    "freq = count_freq(fr_text)\n",
    "print(freq)\n"
   ]
  }
 ],
 "metadata": {
  "kernelspec": {
   "display_name": "base",
   "language": "python",
   "name": "python3"
  },
  "language_info": {
   "codemirror_mode": {
    "name": "ipython",
    "version": 3
   },
   "file_extension": ".py",
   "mimetype": "text/x-python",
   "name": "python",
   "nbconvert_exporter": "python",
   "pygments_lexer": "ipython3",
   "version": "3.11.5"
  }
 },
 "nbformat": 4,
 "nbformat_minor": 2
}
